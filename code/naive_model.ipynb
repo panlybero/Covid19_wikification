{
 "cells": [
  {
   "cell_type": "code",
   "execution_count": 2,
   "metadata": {},
   "outputs": [],
   "source": [
    "import pickle\n",
    "import numpy as np\n",
    "path = \"D:\\\\work\\\\Research\\\\COVID_wiki\\\\repo files\\\\ambiguous_data\"\n",
    "import pandas as pd\n",
    "import csv\n",
    "a = pd.read_csv(path+\"\\\\train.txt\",sep = \" \",quoting=csv.QUOTE_NONE,header = None,skip_blank_lines = False).fillna(\"-@@-\")\n",
    "_a = a\n",
    "a = np.array(a)"
   ]
  },
  {
   "cell_type": "code",
   "execution_count": 3,
   "metadata": {
    "tags": []
   },
   "outputs": [],
   "source": [
    "label_list = a.T[1]\n",
    "input_list = a.T[0]"
   ]
  },
  {
   "cell_type": "code",
   "execution_count": 4,
   "metadata": {},
   "outputs": [],
   "source": [
    "def get_span(seq):\n",
    "        i = 0\n",
    "        l = seq[0]\n",
    "        while l == seq[i]:\n",
    "            i+=1\n",
    "            if seq[i]==\"-@@-\":\n",
    "                break\n",
    "\n",
    "        return l,i\n"
   ]
  },
  {
   "cell_type": "code",
   "execution_count": 5,
   "metadata": {
    "tags": []
   },
   "outputs": [],
   "source": [
    "inp_spans = []\n",
    "label_spans = []\n",
    "i =0\n",
    "s = label_list\n",
    "sp = input_list\n",
    "while i < len(s):\n",
    "    label = s[i]\n",
    "  \n",
    "    inp = sp[i]\n",
    "    \n",
    "    if label!=\"O\" and label!=\"-@@-\":\n",
    "        \n",
    "        span,span_len = get_span(s[i:])\n",
    "        label_span =s[i:i+span_len]\n",
    "        inp_span =  sp[i:i+span_len]\n",
    "        inp_spans.append(inp_span)\n",
    "        label_spans.append(label_span)\n",
    "        i+=span_len\n",
    "    i+=1 \n",
    "inp_list_spans = inp_spans\n",
    "inp_spans = [\" \".join(inp_span) for inp_span in inp_spans]  \n",
    "label_spans = [l[0] for l in label_spans]      \n",
    "span_length = {span:len(list_span) for span,list_span in zip(inp_spans,inp_list_spans)}        "
   ]
  },
  {
   "cell_type": "code",
   "execution_count": 6,
   "metadata": {},
   "outputs": [],
   "source": [
    "span_label_counts = {span:{} for span in inp_spans}\n",
    "\n",
    "for span, label in zip(inp_spans,label_spans):\n",
    "    if span not in span_label_counts:\n",
    "        span_label_counts[span] = {label:1}\n",
    "    else:\n",
    "        if label not in span_label_counts[span]:\n",
    "            span_label_counts[span][label]=1\n",
    "        else:\n",
    "            span_label_counts[span][label]+=1"
   ]
  },
  {
   "cell_type": "code",
   "execution_count": 7,
   "metadata": {},
   "outputs": [],
   "source": [
    "span_uncertain = {}\n",
    "span_majority_labels = {}\n",
    "\n",
    "for span, labels in span_label_counts.items():\n",
    "    \n",
    "    total = np.sum(list(labels.values()))\n",
    "    m=  np.max(list(labels.values()))\n",
    "    ind  = np.argmax(list(labels.values()))\n",
    "    l = max(labels,key = labels.get)\n",
    "    if m/total >0.9:\n",
    "        span_uncertain[span] = False\n",
    "        span_majority_labels[span] = l"
   ]
  },
  {
   "cell_type": "code",
   "execution_count": 8,
   "metadata": {
    "tags": []
   },
   "outputs": [],
   "source": [
    "max_span_length = np.max([len(span) for span in span_uncertain])\n"
   ]
  },
  {
   "cell_type": "code",
   "execution_count": 9,
   "metadata": {
    "tags": []
   },
   "outputs": [],
   "source": [
    "#a = pd.read_csv(path+\"\\\\test.txt\",sep = \" \",quoting=csv.QUOTE_NONE,header = None,skip_blank_lines = False).fillna(\"-@@-\")\n",
    "f = open(path+\"\\\\test.txt\",\"r\",encoding = \"utf8\")\n",
    "a = f.readlines()\n",
    "test = []\n",
    "sent = []\n",
    "for line in a:\n",
    "    if len(line) == 1:\n",
    "        \n",
    "        test.append(np.array(sent, np.object))\n",
    "        sent = []\n",
    "    else:\n",
    "        a,b = line.split(\" \")\n",
    "        b = b.strip(\"\\n\")\n",
    "        sent.append(np.array([a,b],np.object))\n",
    "f.close()\n",
    "test= np.array(test,np.object)"
   ]
  },
  {
   "cell_type": "code",
   "execution_count": 10,
   "metadata": {},
   "outputs": [],
   "source": [
    "input_sentences = [t.T[0] for t in test]\n",
    "labels = [t.T[1] for t in test]\n"
   ]
  },
  {
   "cell_type": "code",
   "execution_count": 11,
   "metadata": {
    "tags": []
   },
   "outputs": [],
   "source": [
    "k = 10\n",
    "def label_sentence(s):\n",
    "    labels = [\"O\"]* len(s)\n",
    "    query_str = \" \".join(s)\n",
    "    query = s\n",
    "    label_changes = []\n",
    "    for span in span_majority_labels:\n",
    "        if \" \"+span+\" \"  in query_str:\n",
    "            ind = query_str.find(span)\n",
    "            c = query_str[:ind].count(\" \")\n",
    "            label_changes.append([span_majority_labels[span], c,c+span_length[span],span_length[span]])\n",
    "            #print(span, span_majority_labels[span], query[c:c+span_length[span]])\n",
    "            \n",
    "\n",
    "    label_changes = sorted(label_changes, key = lambda x: x[3])\n",
    "\n",
    "    for change in label_changes:\n",
    "        for i in range(change[1],change[2]):\n",
    "            labels[i] = change[0]\n",
    "    return query, labels\n"
   ]
  },
  {
   "cell_type": "code",
   "execution_count": 12,
   "metadata": {
    "tags": []
   },
   "outputs": [
    {
     "output_type": "stream",
     "name": "stderr",
     "text": "100%|██████████| 15590/15590 [00:34<00:00, 452.65it/s]\n"
    }
   ],
   "source": [
    "import tqdm\n",
    "preds = []\n",
    "for d in tqdm.tqdm(input_sentences):\n",
    "    query, pred = label_sentence(d)\n",
    "    preds.append(pred)"
   ]
  },
  {
   "cell_type": "code",
   "execution_count": 19,
   "metadata": {},
   "outputs": [],
   "source": [
    "\n",
    "def end_to_end_metrics(preds_list,out_label_list, weak = True):\n",
    "    \n",
    "    def get_span(seq):\n",
    "        i = 0\n",
    "        l = seq[0]\n",
    "        while l == seq[i]:\n",
    "            i+=1\n",
    "            if i == len(seq):\n",
    "                break\n",
    "\n",
    "        return l,i\n",
    "    def compare_spans(label_span,pred_span,weak = True):\n",
    "        if weak:\n",
    "            t = label_span[0]\n",
    "            if t in pred_span:\n",
    "                return True\n",
    "            else:\n",
    "                return False\n",
    "        else:\n",
    "            for i,t in enumerate(label_span):\n",
    "                if t!=pred_span[i]:\n",
    "                    return False\n",
    "            return True\n",
    "\n",
    "    TP = 0\n",
    "    TN = 0\n",
    "    FP = 0\n",
    "    FN = 0\n",
    "\n",
    "    for j,s in enumerate(out_label_list):\n",
    "        sp = preds_list[j]\n",
    "        i = 0\n",
    "        while i < len(s):\n",
    "        #for i in range(len(s)):\n",
    "            label = s[i]\n",
    "            pred = sp[i]\n",
    "            if label ==\"O\":\n",
    "                if pred == \"O\":\n",
    "                    TN+=1\n",
    "                else:\n",
    "                    FP+=1\n",
    "\n",
    "            if label!=\"O\":\n",
    "                span,span_len = get_span(s[i:])\n",
    "                label_span =s[i:i+span_len]\n",
    "                pred_span =  sp[i:i+span_len]\n",
    "\n",
    "                if compare_spans(label_span,pred_span, weak = weak):\n",
    "                    TP+=1\n",
    "                else:\n",
    "                    FN+=1\n",
    "                    \n",
    "\n",
    "                i+=span_len\n",
    "                \n",
    "            i+=1\n",
    "    if TP+FP ==0:\n",
    "        precision = 0\n",
    "    else:\n",
    "        precision = TP/(TP+FP)\n",
    "    \n",
    "    if TP+FN ==0:\n",
    "        recall = 0\n",
    "    else:\n",
    "        recall = TP/(TP+FN)\n",
    "    \n",
    "    if precision + recall!=0:\n",
    "        F1 = 2*(precision*recall)/(precision+recall)\n",
    "    else:\n",
    "        F1 = 0\n",
    "\n",
    "    dec= \"Weak\" if weak else \"Strong\"\n",
    "    metrics = {dec+\" Precision\":precision,dec+\" Recall\":recall,dec+\" F1\":F1}\n",
    "    return metrics"
   ]
  },
  {
   "cell_type": "code",
   "execution_count": 23,
   "metadata": {},
   "outputs": [
    {
     "output_type": "execute_result",
     "data": {
      "text/plain": "{'Weak Precision': 0.31685555280174843,\n 'Weak Recall': 0.7955085416902364,\n 'Weak F1': 0.4531992716843106}"
     },
     "metadata": {},
     "execution_count": 23
    }
   ],
   "source": [
    "end_to_end_metrics(preds,labels,weak = True)\n"
   ]
  },
  {
   "cell_type": "code",
   "execution_count": 24,
   "metadata": {},
   "outputs": [
    {
     "output_type": "execute_result",
     "data": {
      "text/plain": "{'Strong Precision': 0.31339024887338934,\n 'Strong Recall': 0.7828374250480824,\n 'Strong F1': 0.44759609942267575}"
     },
     "metadata": {},
     "execution_count": 24
    }
   ],
   "source": [
    "end_to_end_metrics(preds,labels,weak = False)"
   ]
  },
  {
   "cell_type": "code",
   "execution_count": null,
   "metadata": {},
   "outputs": [],
   "source": []
  }
 ],
 "metadata": {
  "language_info": {
   "codemirror_mode": {
    "name": "ipython",
    "version": 3
   },
   "file_extension": ".py",
   "mimetype": "text/x-python",
   "name": "python",
   "nbconvert_exporter": "python",
   "pygments_lexer": "ipython3",
   "version": "3.7.7-final"
  },
  "orig_nbformat": 2,
  "kernelspec": {
   "name": "python37764bitcovidwikicondaeec2cba50c50470899332053dcc1beee",
   "display_name": "Python 3.7.7 64-bit ('COVID_wiki': conda)"
  }
 },
 "nbformat": 4,
 "nbformat_minor": 2
}